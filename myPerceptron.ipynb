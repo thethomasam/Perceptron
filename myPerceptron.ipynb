{
 "cells": [
  {
   "cell_type": "code",
   "execution_count": 71,
   "metadata": {},
   "outputs": [],
   "source": [
    "import pandas as pd\n",
    "import numpy as np\n",
    "from sklearn.model_selection import train_test_split\n",
    "from sklearn.metrics import confusion_matrix\n",
    "import matplotlib.pyplot as plt\n",
    "from sklearn.datasets import load_svmlight_file\n",
    "from sklearn.metrics import accuracy_score\n",
    "import torch \n",
    "from sklearn import metrics\n",
    "\n",
    "import seaborn as sns\n",
    "\n",
    "\n"
   ]
  },
  {
   "cell_type": "code",
   "execution_count": null,
   "metadata": {},
   "outputs": [],
   "source": []
  },
  {
   "cell_type": "markdown",
   "metadata": {},
   "source": [
    "Importing Dataset\n"
   ]
  },
  {
   "cell_type": "code",
   "execution_count": 25,
   "metadata": {},
   "outputs": [],
   "source": [
    "\n",
    "X,y=load_svmlight_file(\"./std_data.txt\")\n",
    "X=pd.DataFrame(X.toarray())\n",
    "y=pd.DataFrame(y)\n"
   ]
  },
  {
   "cell_type": "markdown",
   "metadata": {},
   "source": [
    "Split Data to Train and Test set\n",
    "\n"
   ]
  },
  {
   "cell_type": "code",
   "execution_count": 74,
   "metadata": {},
   "outputs": [
    {
     "ename": "NameError",
     "evalue": "name 'x' is not defined",
     "output_type": "error",
     "traceback": [
      "\u001b[0;31m---------------------------------------------------------------------------\u001b[0m",
      "\u001b[0;31mNameError\u001b[0m                                 Traceback (most recent call last)",
      "Cell \u001b[0;32mIn [74], line 5\u001b[0m\n\u001b[1;32m      3\u001b[0m     X_train, X_test, y_train, y_test \u001b[38;5;241m=\u001b[39m train_test_split(X, y, test_size\u001b[38;5;241m=\u001b[39m\u001b[38;5;241m0.33\u001b[39m,stratify\u001b[38;5;241m=\u001b[39my )\n\u001b[1;32m      4\u001b[0m     \u001b[38;5;28;01mreturn\u001b[39;00m X_train, X_test, y_train, y_test\n\u001b[0;32m----> 5\u001b[0m X_train, X_test, y_train, y_test\u001b[38;5;241m=\u001b[39m\u001b[43msplit_data\u001b[49m\u001b[43m(\u001b[49m\u001b[43mX\u001b[49m\u001b[43m,\u001b[49m\u001b[43my\u001b[49m\u001b[43m)\u001b[49m\n\u001b[1;32m      8\u001b[0m X_train\n",
      "Cell \u001b[0;32mIn [74], line 2\u001b[0m, in \u001b[0;36msplit_data\u001b[0;34m(X, y)\u001b[0m\n\u001b[1;32m      1\u001b[0m \u001b[38;5;28;01mdef\u001b[39;00m  \u001b[38;5;21msplit_data\u001b[39m(X,y):\n\u001b[0;32m----> 2\u001b[0m     np\u001b[38;5;241m.\u001b[39mrandom\u001b[38;5;241m.\u001b[39mseed(\u001b[43mx\u001b[49m)\n\u001b[1;32m      3\u001b[0m     X_train, X_test, y_train, y_test \u001b[38;5;241m=\u001b[39m train_test_split(X, y, test_size\u001b[38;5;241m=\u001b[39m\u001b[38;5;241m0.33\u001b[39m,stratify\u001b[38;5;241m=\u001b[39my )\n\u001b[1;32m      4\u001b[0m     \u001b[38;5;28;01mreturn\u001b[39;00m X_train, X_test, y_train, y_test\n",
      "\u001b[0;31mNameError\u001b[0m: name 'x' is not defined"
     ]
    }
   ],
   "source": [
    "def  split_data(X,y):\n",
    "    np.random.seed(x)\n",
    "    X_train, X_test, y_train, y_test = train_test_split(X, y, test_size=0.33,stratify=y )\n",
    "    return X_train, X_test, y_train, y_test\n",
    "X_train, X_test, y_train, y_test=split_data(X,y)\n",
    "\n",
    "\n",
    "X_train\n"
   ]
  },
  {
   "cell_type": "code",
   "execution_count": 333,
   "metadata": {},
   "outputs": [],
   "source": [
    "class MyPerceptron :\n",
    "\n",
    "    def __init__(self,X,y,epochs,bias=False):\n",
    "        self.epochs=epochs   # number of epochs\n",
    "\n",
    "          # initialising the weights\n",
    "          # initialising the label with inputs\n",
    "        self.lr=0.001 # initialising learning Rate\n",
    "         # initialising the bias \n",
    "        self.error=[]  # initialising empty array to store loss \n",
    "        self.train_acc=[]\n",
    "        self.test_acc=[]\n",
    "        self.val_acc=[]\n",
    "        self.best_weight=0\n",
    "        self.accuracy_table=[]\n",
    "        if bias:\n",
    "            X=self.initalize_bias(X)\n",
    "        self.weights=np.array(np.random.rand(1,X.shape[1]))\n",
    "        self.X_train,self.X_test,self.X_val,self.y_train,self.y_test,self.y_val = self.split_data(X,y)# initalisig the features with input           \n",
    "        # self.X_train=np.array(self.X_train)\n",
    "        # self.X_test=np.array(self.X_test)\n",
    "        # self.y_train=np.array(y_train)\n",
    "        # self.y_test=np.array(y_test)\n",
    "\n",
    "\n",
    "    def initalize_bias(self,X):\n",
    "        tr=np.ones((X.shape[0],1))\n",
    "        X=np.hstack((X,tr))\n",
    "        return X\n",
    "    \n",
    "    \n",
    "    def  split_data(self,X,y):\n",
    "        \n",
    "        X_train, X_test, y_train, y_test = train_test_split(X, y, test_size=0.33, random_state=42,stratify=y )\n",
    "        X_train,X_val,y_train,y_val= train_test_split(X_train, y_train, test_size=0.2, random_state=42,stratify=y_train)\n",
    "        \n",
    "        return np.array(X_train), np.array(X_test),np.array(X_val), np.array(y_train), np.array(y_test),np.array(y_val)\n",
    "\n",
    "    \n",
    "        \n",
    "    def zero_one_loss(self,X,weights,y):\n",
    "        \n",
    "        #step function which adds loss to missclassification \n",
    "        signum=y*(np.matmul(X,weights.T))\n",
    "        if signum<=0:\n",
    "            return 1\n",
    "        else:\n",
    "            return 0\n",
    "    def hinge_loss(self,X,weights,y):\n",
    "        return max(0,1-y*(np.matmul(X,weights.T)))\n",
    "    def perceptron_loss(self,X,weights,y):\n",
    "        \n",
    "        return max(0,-y*(np.matmul(X,weights.T)))\n",
    "\n",
    "\n",
    "    def pred_accuracy(self,X, y):\n",
    "        y_preds = self.predict(X)\n",
    "        accuracy = accuracy_score(y_preds,y)\n",
    "        return accuracy\n",
    "\n",
    "    \n",
    "    def train(self,loss_fxn):\n",
    "        # optimizing the weights to find the best descison boundry \n",
    "      \n",
    "        for i in range(self.epochs):\n",
    "            sum_of_errors=0\n",
    "            for i in range(len(self.X_train)):\n",
    "                sum_of_errors+=self.X_train[i]*self.y_train[i]*loss_fxn(self.X_train[i],self.weights,self.y_train[i])\n",
    "            self.weights=self.weights+self.lr*(sum_of_errors)\n",
    "            acc_train = self.pred_accuracy(self.X_train,self.y_train)\n",
    "            acc_test=self.pred_accuracy(self.X_test,self.y_test)\n",
    "            acc_val=self.pred_accuracy(self.X_val,self.y_val)\n",
    "            self.train_acc.append(acc_train)\n",
    "            self.test_acc.append(acc_test)\n",
    "            self.val_acc.append(acc_val)\n",
    "            self.accuracy_table.append({\"weights\":self.weights,\"train_accuracy\":acc_train,\"test_accuracy\":acc_test})\n",
    "\n",
    "\n",
    "        \n",
    "            \n",
    "            \n",
    "    \n",
    "    def predict(self,X):\n",
    "        #predicts the class based on the input features \n",
    "        y_pred=np.matmul(X,self.weights.T)\n",
    "        y_pred[y_pred>0]=1\n",
    "        y_pred[y_pred<0]=-1\n",
    "        return y_pred\n",
    "            \n",
    "       \n",
    "    def conf_matrix(self):\n",
    "        cf_matrix = confusion_matrix(self.y_test,self.predict(X_test))\n",
    "        sns.heatmap(cf_matrix/np.sum(cf_matrix), annot=True, \n",
    "        fmt='.2%', cmap='Blues')\n",
    "                   \n",
    "    \n",
    "\n",
    "    def  plot_error(self):\n",
    "        #plot the error\n",
    "        print(self.error)\n",
    "        plt.plot(self.error)\n",
    "        plt.show()\n",
    "    def  plot_acc(self):\n",
    "        #plot the error\n",
    "        plt.plot(self.train_acc,label=\"training Accuracy\")\n",
    "        plt.plot(self.test_acc,label=\"testing accuracy\")\n",
    "        plt.plot(self.val_acc,label=\"validation accuracy\")\n",
    "        plt.legend()\n",
    "        \n",
    "    def get_conf(self):\n",
    "        cf_matrix = confusion_matrix(self.y_test,b.predict(self.X_test))\n",
    "        sns.heatmap(cf_matrix/np.sum(cf_matrix), annot=True, \n",
    "            fmt='.2%', cmap='Blues')\n",
    "\n",
    "    def  get_best_weights(self):\n",
    "       \n",
    "        print(sorted(self.accuracy_table,key=lambda k: k['test_accuracy'])[-1])\n",
    "        \n",
    "        \n",
    "\n",
    "\n",
    "           \n",
    "                \n",
    "        \n",
    "        \n",
    "\n",
    "            \n",
    "\n"
   ]
  },
  {
   "cell_type": "code",
   "execution_count": 12,
   "metadata": {},
   "outputs": [
    {
     "data": {
      "text/plain": [
       "(254, 8)"
      ]
     },
     "execution_count": 12,
     "metadata": {},
     "output_type": "execute_result"
    }
   ],
   "source": [
    "\n"
   ]
  },
  {
   "cell_type": "code",
   "execution_count": 364,
   "metadata": {},
   "outputs": [
    {
     "name": "stdout",
     "output_type": "stream",
     "text": [
      "{'weights': array([[0.30022338, 0.53965862, 0.06043934, 0.422761  , 0.14361759,\n",
      "        0.28636788, 0.40805498, 0.15725659, 0.88455896]]), 'train_accuracy': 0.3381995133819951, 'test_accuracy': 0.38188976377952755}\n"
     ]
    },
    {
     "data": {
      "image/png": "[encoded data removed]",
      "text/plain": [
       "<Figure size 432x288 with 1 Axes>"
      ]
     },
     "metadata": {
      "needs_background": "light"
     },
     "output_type": "display_data"
    }
   ],
   "source": [
    "b=MyPerceptron(X,y,10,True)\n",
    "b.train(b.perceptron_loss)\n",
    "\n",
    "            \n",
    "b.get_best_weights()\n",
    "b.plot_acc()\n",
    "\n",
    "\n"
   ]
  },
  {
   "cell_type": "code",
   "execution_count": 287,
   "metadata": {},
   "outputs": [
    {
     "data": {
      "image/png": "[encoded data removed]",
      "text/plain": [
       "<Figure size 432x288 with 1 Axes>"
      ]
     },
     "metadata": {
      "needs_background": "light"
     },
     "output_type": "display_data"
    }
   ],
   "source": [
    "\n",
    "b.plot_acc()"
   ]
  },
  {
   "cell_type": "code",
   "execution_count": 332,
   "metadata": {},
   "outputs": [
    {
     "name": "stdout",
     "output_type": "stream",
     "text": [
      "{'weights': array([[-0.07291053, -0.24193796,  0.00566674,  0.11518526, -0.09609482,\n",
      "         0.42109225, -0.33155681, -0.26773646]]), 'train_accuracy': 0.6618004866180048, 'test_accuracy': 0.6338582677165354}\n"
     ]
    },
    {
     "data": {
      "image/png": "[encoded data removed]",
      "text/plain": [
       "<Figure size 432x288 with 1 Axes>"
      ]
     },
     "metadata": {
      "needs_background": "light"
     },
     "output_type": "display_data"
    }
   ],
   "source": [
    "\n",
    "b=MyPerceptron(X,y,10,False)\n",
    "b.train()\n",
    "b.get_best_weights()\n",
    "b.plot_acc()\n",
    "            "
   ]
  },
  {
   "cell_type": "code",
   "execution_count": 292,
   "metadata": {},
   "outputs": [
    {
     "data": {
      "text/plain": [
       "array([[-0.18980728,  0.25943902,  0.75329573, -0.0640836 ,  0.32363269,\n",
       "         0.54947725, -0.09487339,  0.00805253]])"
      ]
     },
     "execution_count": 292,
     "metadata": {},
     "output_type": "execute_result"
    }
   ],
   "source": [
    "b.get_best_weights()\n"
   ]
  },
  {
   "cell_type": "code",
   "execution_count": 341,
   "metadata": {},
   "outputs": [
    {
     "data": {
      "text/plain": [
       "(768, 9)"
      ]
     },
     "execution_count": 341,
     "metadata": {},
     "output_type": "execute_result"
    }
   ],
   "source": []
  },
  {
   "cell_type": "code",
   "execution_count": 354,
   "metadata": {},
   "outputs": [
    {
     "ename": "ValueError",
     "evalue": "Boolean array expected for the condition, not float64",
     "output_type": "error",
     "traceback": [
      "\u001b[0;31m---------------------------------------------------------------------------\u001b[0m",
      "\u001b[0;31mValueError\u001b[0m                                Traceback (most recent call last)",
      "Cell \u001b[0;32mIn [354], line 13\u001b[0m\n\u001b[1;32m     11\u001b[0m \u001b[38;5;66;03m#plot parallel coordinates\u001b[39;00m\n\u001b[1;32m     12\u001b[0m \u001b[38;5;28;01mfrom\u001b[39;00m \u001b[38;5;21;01mpandas\u001b[39;00m\u001b[38;5;21;01m.\u001b[39;00m\u001b[38;5;21;01mplotting\u001b[39;00m \u001b[38;5;28;01mimport\u001b[39;00m parallel_coordinates\n\u001b[0;32m---> 13\u001b[0m pc \u001b[38;5;241m=\u001b[39m \u001b[43mparallel_coordinates\u001b[49m\u001b[43m(\u001b[49m\u001b[43mfinal_df\u001b[49m\u001b[38;5;241;43m.\u001b[39;49m\u001b[43miloc\u001b[49m\u001b[43m[\u001b[49m\u001b[43m:\u001b[49m\u001b[43m,\u001b[49m\u001b[43m:\u001b[49m\u001b[38;5;241;43m-\u001b[39;49m\u001b[38;5;241;43m1\u001b[39;49m\u001b[43m]\u001b[49m\u001b[43m,\u001b[49m\u001b[43m \u001b[49m\u001b[43mpd\u001b[49m\u001b[38;5;241;43m.\u001b[39;49m\u001b[43mDataFrame\u001b[49m\u001b[43m(\u001b[49m\u001b[43mfinal_df\u001b[49m\u001b[38;5;241;43m.\u001b[39;49m\u001b[43miloc\u001b[49m\u001b[43m[\u001b[49m\u001b[43m:\u001b[49m\u001b[43m,\u001b[49m\u001b[38;5;241;43m-\u001b[39;49m\u001b[38;5;241;43m1\u001b[39;49m\u001b[43m]\u001b[49m\u001b[43m)\u001b[49m\u001b[43m,\u001b[49m\u001b[43m \u001b[49m\u001b[43mcolor\u001b[49m\u001b[38;5;241;43m=\u001b[39;49m\u001b[43m(\u001b[49m\u001b[38;5;124;43m'\u001b[39;49m\u001b[38;5;124;43m#FFE888\u001b[39;49m\u001b[38;5;124;43m'\u001b[39;49m\u001b[43m,\u001b[49m\u001b[43m \u001b[49m\u001b[38;5;124;43m'\u001b[39;49m\u001b[38;5;124;43m#FF9999\u001b[39;49m\u001b[38;5;124;43m'\u001b[39;49m\u001b[43m)\u001b[49m\u001b[43m)\u001b[49m\n",
      "File \u001b[0;32m~/miniforge3/envs/torch-gpu/lib/python3.8/site-packages/pandas/plotting/_misc.py:417\u001b[0m, in \u001b[0;36mparallel_coordinates\u001b[0;34m(frame, class_column, cols, ax, color, use_columns, xticks, colormap, axvlines, axvlines_kwds, sort_labels, **kwargs)\u001b[0m\n\u001b[1;32m    <a href='file:///~/miniforge3/envs/torch-gpu/lib/python3.8/site-packages/pandas/plotting/_misc.py?line=367'>368</a>\u001b[0m \u001b[39m\"\"\"\u001b[39;00m\n\u001b[1;32m    <a href='file:///~/miniforge3/envs/torch-gpu/lib/python3.8/site-packages/pandas/plotting/_misc.py?line=368'>369</a>\u001b[0m \u001b[39mParallel coordinates plotting.\u001b[39;00m\n\u001b[1;32m    <a href='file:///~/miniforge3/envs/torch-gpu/lib/python3.8/site-packages/pandas/plotting/_misc.py?line=369'>370</a>\u001b[0m \n\u001b[0;32m   (...)\u001b[0m\n\u001b[1;32m    <a href='file:///~/miniforge3/envs/torch-gpu/lib/python3.8/site-packages/pandas/plotting/_misc.py?line=413'>414</a>\u001b[0m \u001b[39m    <AxesSubplot:xlabel='y(t)', ylabel='y(t + 1)'>\u001b[39;00m\n\u001b[1;32m    <a href='file:///~/miniforge3/envs/torch-gpu/lib/python3.8/site-packages/pandas/plotting/_misc.py?line=414'>415</a>\u001b[0m \u001b[39m\"\"\"\u001b[39;00m\n\u001b[1;32m    <a href='file:///~/miniforge3/envs/torch-gpu/lib/python3.8/site-packages/pandas/plotting/_misc.py?line=415'>416</a>\u001b[0m plot_backend \u001b[39m=\u001b[39m _get_plot_backend(\u001b[39m\"\u001b[39m\u001b[39mmatplotlib\u001b[39m\u001b[39m\"\u001b[39m)\n\u001b[0;32m--> <a href='file:///~/miniforge3/envs/torch-gpu/lib/python3.8/site-packages/pandas/plotting/_misc.py?line=416'>417</a>\u001b[0m \u001b[39mreturn\u001b[39;00m plot_backend\u001b[39m.\u001b[39;49mparallel_coordinates(\n\u001b[1;32m    <a href='file:///~/miniforge3/envs/torch-gpu/lib/python3.8/site-packages/pandas/plotting/_misc.py?line=417'>418</a>\u001b[0m     frame\u001b[39m=\u001b[39;49mframe,\n\u001b[1;32m    <a href='file:///~/miniforge3/envs/torch-gpu/lib/python3.8/site-packages/pandas/plotting/_misc.py?line=418'>419</a>\u001b[0m     class_column\u001b[39m=\u001b[39;49mclass_column,\n\u001b[1;32m    <a href='file:///~/miniforge3/envs/torch-gpu/lib/python3.8/site-packages/pandas/plotting/_misc.py?line=419'>420</a>\u001b[0m     cols\u001b[39m=\u001b[39;49mcols,\n\u001b[1;32m    <a href='file:///~/miniforge3/envs/torch-gpu/lib/python3.8/site-packages/pandas/plotting/_misc.py?line=420'>421</a>\u001b[0m     ax\u001b[39m=\u001b[39;49max,\n\u001b[1;32m    <a href='file:///~/miniforge3/envs/torch-gpu/lib/python3.8/site-packages/pandas/plotting/_misc.py?line=421'>422</a>\u001b[0m     color\u001b[39m=\u001b[39;49mcolor,\n\u001b[1;32m    <a href='file:///~/miniforge3/envs/torch-gpu/lib/python3.8/site-packages/pandas/plotting/_misc.py?line=422'>423</a>\u001b[0m     use_columns\u001b[39m=\u001b[39;49muse_columns,\n\u001b[1;32m    <a href='file:///~/miniforge3/envs/torch-gpu/lib/python3.8/site-packages/pandas/plotting/_misc.py?line=423'>424</a>\u001b[0m     xticks\u001b[39m=\u001b[39;49mxticks,\n\u001b[1;32m    <a href='file:///~/miniforge3/envs/torch-gpu/lib/python3.8/site-packages/pandas/plotting/_misc.py?line=424'>425</a>\u001b[0m     colormap\u001b[39m=\u001b[39;49mcolormap,\n\u001b[1;32m    <a href='file:///~/miniforge3/envs/torch-gpu/lib/python3.8/site-packages/pandas/plotting/_misc.py?line=425'>426</a>\u001b[0m     axvlines\u001b[39m=\u001b[39;49maxvlines,\n\u001b[1;32m    <a href='file:///~/miniforge3/envs/torch-gpu/lib/python3.8/site-packages/pandas/plotting/_misc.py?line=426'>427</a>\u001b[0m     axvlines_kwds\u001b[39m=\u001b[39;49maxvlines_kwds,\n\u001b[1;32m    <a href='file:///~/miniforge3/envs/torch-gpu/lib/python3.8/site-packages/pandas/plotting/_misc.py?line=427'>428</a>\u001b[0m     sort_labels\u001b[39m=\u001b[39;49msort_labels,\n\u001b[1;32m    <a href='file:///~/miniforge3/envs/torch-gpu/lib/python3.8/site-packages/pandas/plotting/_misc.py?line=428'>429</a>\u001b[0m     \u001b[39m*\u001b[39;49m\u001b[39m*\u001b[39;49mkwargs,\n\u001b[1;32m    <a href='file:///~/miniforge3/envs/torch-gpu/lib/python3.8/site-packages/pandas/plotting/_misc.py?line=429'>430</a>\u001b[0m )\n",
      "File \u001b[0;32m~/miniforge3/envs/torch-gpu/lib/python3.8/site-packages/pandas/plotting/_matplotlib/misc.py:368\u001b[0m, in \u001b[0;36mparallel_coordinates\u001b[0;34m(frame, class_column, cols, ax, color, use_columns, xticks, colormap, axvlines, axvlines_kwds, sort_labels, **kwds)\u001b[0m\n\u001b[1;32m    <a href='file:///~/miniforge3/envs/torch-gpu/lib/python3.8/site-packages/pandas/plotting/_matplotlib/misc.py?line=364'>365</a>\u001b[0m     axvlines_kwds \u001b[39m=\u001b[39m {\u001b[39m\"\u001b[39m\u001b[39mlinewidth\u001b[39m\u001b[39m\"\u001b[39m: \u001b[39m1\u001b[39m, \u001b[39m\"\u001b[39m\u001b[39mcolor\u001b[39m\u001b[39m\"\u001b[39m: \u001b[39m\"\u001b[39m\u001b[39mblack\u001b[39m\u001b[39m\"\u001b[39m}\n\u001b[1;32m    <a href='file:///~/miniforge3/envs/torch-gpu/lib/python3.8/site-packages/pandas/plotting/_matplotlib/misc.py?line=366'>367</a>\u001b[0m n \u001b[39m=\u001b[39m \u001b[39mlen\u001b[39m(frame)\n\u001b[0;32m--> <a href='file:///~/miniforge3/envs/torch-gpu/lib/python3.8/site-packages/pandas/plotting/_matplotlib/misc.py?line=367'>368</a>\u001b[0m classes \u001b[39m=\u001b[39m frame[class_column]\u001b[39m.\u001b[39mdrop_duplicates()\n\u001b[1;32m    <a href='file:///~/miniforge3/envs/torch-gpu/lib/python3.8/site-packages/pandas/plotting/_matplotlib/misc.py?line=368'>369</a>\u001b[0m class_col \u001b[39m=\u001b[39m frame[class_column]\n\u001b[1;32m    <a href='file:///~/miniforge3/envs/torch-gpu/lib/python3.8/site-packages/pandas/plotting/_matplotlib/misc.py?line=370'>371</a>\u001b[0m \u001b[39mif\u001b[39;00m cols \u001b[39mis\u001b[39;00m \u001b[39mNone\u001b[39;00m:\n",
      "File \u001b[0;32m~/miniforge3/envs/torch-gpu/lib/python3.8/site-packages/pandas/core/frame.py:3492\u001b[0m, in \u001b[0;36mDataFrame.__getitem__\u001b[0;34m(self, key)\u001b[0m\n\u001b[1;32m   <a href='file:///~/miniforge3/envs/torch-gpu/lib/python3.8/site-packages/pandas/core/frame.py?line=3489'>3490</a>\u001b[0m \u001b[39m# Do we have a (boolean) DataFrame?\u001b[39;00m\n\u001b[1;32m   <a href='file:///~/miniforge3/envs/torch-gpu/lib/python3.8/site-packages/pandas/core/frame.py?line=3490'>3491</a>\u001b[0m \u001b[39mif\u001b[39;00m \u001b[39misinstance\u001b[39m(key, DataFrame):\n\u001b[0;32m-> <a href='file:///~/miniforge3/envs/torch-gpu/lib/python3.8/site-packages/pandas/core/frame.py?line=3491'>3492</a>\u001b[0m     \u001b[39mreturn\u001b[39;00m \u001b[39mself\u001b[39;49m\u001b[39m.\u001b[39;49mwhere(key)\n\u001b[1;32m   <a href='file:///~/miniforge3/envs/torch-gpu/lib/python3.8/site-packages/pandas/core/frame.py?line=3493'>3494</a>\u001b[0m \u001b[39m# Do we have a (boolean) 1d indexer?\u001b[39;00m\n\u001b[1;32m   <a href='file:///~/miniforge3/envs/torch-gpu/lib/python3.8/site-packages/pandas/core/frame.py?line=3494'>3495</a>\u001b[0m \u001b[39mif\u001b[39;00m com\u001b[39m.\u001b[39mis_bool_indexer(key):\n",
      "File \u001b[0;32m~/miniforge3/envs/torch-gpu/lib/python3.8/site-packages/pandas/util/_decorators.py:311\u001b[0m, in \u001b[0;36mdeprecate_nonkeyword_arguments.<locals>.decorate.<locals>.wrapper\u001b[0;34m(*args, **kwargs)\u001b[0m\n\u001b[1;32m    <a href='file:///~/miniforge3/envs/torch-gpu/lib/python3.8/site-packages/pandas/util/_decorators.py?line=304'>305</a>\u001b[0m \u001b[39mif\u001b[39;00m \u001b[39mlen\u001b[39m(args) \u001b[39m>\u001b[39m num_allow_args:\n\u001b[1;32m    <a href='file:///~/miniforge3/envs/torch-gpu/lib/python3.8/site-packages/pandas/util/_decorators.py?line=305'>306</a>\u001b[0m     warnings\u001b[39m.\u001b[39mwarn(\n\u001b[1;32m    <a href='file:///~/miniforge3/envs/torch-gpu/lib/python3.8/site-packages/pandas/util/_decorators.py?line=306'>307</a>\u001b[0m         msg\u001b[39m.\u001b[39mformat(arguments\u001b[39m=\u001b[39marguments),\n\u001b[1;32m    <a href='file:///~/miniforge3/envs/torch-gpu/lib/python3.8/site-packages/pandas/util/_decorators.py?line=307'>308</a>\u001b[0m         \u001b[39mFutureWarning\u001b[39;00m,\n\u001b[1;32m    <a href='file:///~/miniforge3/envs/torch-gpu/lib/python3.8/site-packages/pandas/util/_decorators.py?line=308'>309</a>\u001b[0m         stacklevel\u001b[39m=\u001b[39mstacklevel,\n\u001b[1;32m    <a href='file:///~/miniforge3/envs/torch-gpu/lib/python3.8/site-packages/pandas/util/_decorators.py?line=309'>310</a>\u001b[0m     )\n\u001b[0;32m--> <a href='file:///~/miniforge3/envs/torch-gpu/lib/python3.8/site-packages/pandas/util/_decorators.py?line=310'>311</a>\u001b[0m \u001b[39mreturn\u001b[39;00m func(\u001b[39m*\u001b[39;49margs, \u001b[39m*\u001b[39;49m\u001b[39m*\u001b[39;49mkwargs)\n",
      "File \u001b[0;32m~/miniforge3/envs/torch-gpu/lib/python3.8/site-packages/pandas/core/frame.py:10964\u001b[0m, in \u001b[0;36mDataFrame.where\u001b[0;34m(self, cond, other, inplace, axis, level, errors, try_cast)\u001b[0m\n\u001b[1;32m  <a href='file:///~/miniforge3/envs/torch-gpu/lib/python3.8/site-packages/pandas/core/frame.py?line=10950'>10951</a>\u001b[0m \u001b[39m@deprecate_nonkeyword_arguments\u001b[39m(\n\u001b[1;32m  <a href='file:///~/miniforge3/envs/torch-gpu/lib/python3.8/site-packages/pandas/core/frame.py?line=10951'>10952</a>\u001b[0m     version\u001b[39m=\u001b[39m\u001b[39mNone\u001b[39;00m, allowed_args\u001b[39m=\u001b[39m[\u001b[39m\"\u001b[39m\u001b[39mself\u001b[39m\u001b[39m\"\u001b[39m, \u001b[39m\"\u001b[39m\u001b[39mcond\u001b[39m\u001b[39m\"\u001b[39m, \u001b[39m\"\u001b[39m\u001b[39mother\u001b[39m\u001b[39m\"\u001b[39m]\n\u001b[1;32m  <a href='file:///~/miniforge3/envs/torch-gpu/lib/python3.8/site-packages/pandas/core/frame.py?line=10952'>10953</a>\u001b[0m )\n\u001b[0;32m   (...)\u001b[0m\n\u001b[1;32m  <a href='file:///~/miniforge3/envs/torch-gpu/lib/python3.8/site-packages/pandas/core/frame.py?line=10961'>10962</a>\u001b[0m     try_cast\u001b[39m=\u001b[39mlib\u001b[39m.\u001b[39mno_default,\n\u001b[1;32m  <a href='file:///~/miniforge3/envs/torch-gpu/lib/python3.8/site-packages/pandas/core/frame.py?line=10962'>10963</a>\u001b[0m ):\n\u001b[0;32m> <a href='file:///~/miniforge3/envs/torch-gpu/lib/python3.8/site-packages/pandas/core/frame.py?line=10963'>10964</a>\u001b[0m     \u001b[39mreturn\u001b[39;00m \u001b[39msuper\u001b[39;49m()\u001b[39m.\u001b[39;49mwhere(cond, other, inplace, axis, level, errors, try_cast)\n",
      "File \u001b[0;32m~/miniforge3/envs/torch-gpu/lib/python3.8/site-packages/pandas/core/generic.py:9315\u001b[0m, in \u001b[0;36mNDFrame.where\u001b[0;34m(self, cond, other, inplace, axis, level, errors, try_cast)\u001b[0m\n\u001b[1;32m   <a href='file:///~/miniforge3/envs/torch-gpu/lib/python3.8/site-packages/pandas/core/generic.py?line=9306'>9307</a>\u001b[0m \u001b[39mif\u001b[39;00m try_cast \u001b[39mis\u001b[39;00m \u001b[39mnot\u001b[39;00m lib\u001b[39m.\u001b[39mno_default:\n\u001b[1;32m   <a href='file:///~/miniforge3/envs/torch-gpu/lib/python3.8/site-packages/pandas/core/generic.py?line=9307'>9308</a>\u001b[0m     warnings\u001b[39m.\u001b[39mwarn(\n\u001b[1;32m   <a href='file:///~/miniforge3/envs/torch-gpu/lib/python3.8/site-packages/pandas/core/generic.py?line=9308'>9309</a>\u001b[0m         \u001b[39m\"\u001b[39m\u001b[39mtry_cast keyword is deprecated and will be removed in a \u001b[39m\u001b[39m\"\u001b[39m\n\u001b[1;32m   <a href='file:///~/miniforge3/envs/torch-gpu/lib/python3.8/site-packages/pandas/core/generic.py?line=9309'>9310</a>\u001b[0m         \u001b[39m\"\u001b[39m\u001b[39mfuture version.\u001b[39m\u001b[39m\"\u001b[39m,\n\u001b[1;32m   <a href='file:///~/miniforge3/envs/torch-gpu/lib/python3.8/site-packages/pandas/core/generic.py?line=9310'>9311</a>\u001b[0m         \u001b[39mFutureWarning\u001b[39;00m,\n\u001b[1;32m   <a href='file:///~/miniforge3/envs/torch-gpu/lib/python3.8/site-packages/pandas/core/generic.py?line=9311'>9312</a>\u001b[0m         stacklevel\u001b[39m=\u001b[39mfind_stack_level(),\n\u001b[1;32m   <a href='file:///~/miniforge3/envs/torch-gpu/lib/python3.8/site-packages/pandas/core/generic.py?line=9312'>9313</a>\u001b[0m     )\n\u001b[0;32m-> <a href='file:///~/miniforge3/envs/torch-gpu/lib/python3.8/site-packages/pandas/core/generic.py?line=9314'>9315</a>\u001b[0m \u001b[39mreturn\u001b[39;00m \u001b[39mself\u001b[39;49m\u001b[39m.\u001b[39;49m_where(cond, other, inplace, axis, level, errors\u001b[39m=\u001b[39;49merrors)\n",
      "File \u001b[0;32m~/miniforge3/envs/torch-gpu/lib/python3.8/site-packages/pandas/core/generic.py:9076\u001b[0m, in \u001b[0;36mNDFrame._where\u001b[0;34m(self, cond, other, inplace, axis, level, errors)\u001b[0m\n\u001b[1;32m   <a href='file:///~/miniforge3/envs/torch-gpu/lib/python3.8/site-packages/pandas/core/generic.py?line=9073'>9074</a>\u001b[0m         \u001b[39mfor\u001b[39;00m dt \u001b[39min\u001b[39;00m cond\u001b[39m.\u001b[39mdtypes:\n\u001b[1;32m   <a href='file:///~/miniforge3/envs/torch-gpu/lib/python3.8/site-packages/pandas/core/generic.py?line=9074'>9075</a>\u001b[0m             \u001b[39mif\u001b[39;00m \u001b[39mnot\u001b[39;00m is_bool_dtype(dt):\n\u001b[0;32m-> <a href='file:///~/miniforge3/envs/torch-gpu/lib/python3.8/site-packages/pandas/core/generic.py?line=9075'>9076</a>\u001b[0m                 \u001b[39mraise\u001b[39;00m \u001b[39mValueError\u001b[39;00m(msg\u001b[39m.\u001b[39mformat(dtype\u001b[39m=\u001b[39mdt))\n\u001b[1;32m   <a href='file:///~/miniforge3/envs/torch-gpu/lib/python3.8/site-packages/pandas/core/generic.py?line=9076'>9077</a>\u001b[0m \u001b[39melse\u001b[39;00m:\n\u001b[1;32m   <a href='file:///~/miniforge3/envs/torch-gpu/lib/python3.8/site-packages/pandas/core/generic.py?line=9077'>9078</a>\u001b[0m     \u001b[39m# GH#21947 we have an empty DataFrame/Series, could be object-dtype\u001b[39;00m\n\u001b[1;32m   <a href='file:///~/miniforge3/envs/torch-gpu/lib/python3.8/site-packages/pandas/core/generic.py?line=9078'>9079</a>\u001b[0m     cond \u001b[39m=\u001b[39m cond\u001b[39m.\u001b[39mastype(\u001b[39mbool\u001b[39m)\n",
      "\u001b[0;31mValueError\u001b[0m: Boolean array expected for the condition, not float64"
     ]
    }
   ],
   "source": [
    "\n",
    "subset_df = X\n",
    "\n",
    "from sklearn.preprocessing import StandardScaler\n",
    "ss = StandardScaler()\n",
    "\n",
    "scaled_df = ss.fit_transform(subset_df)\n",
    "scaled_df = pd.DataFrame(scaled_df)\n",
    "final_df = pd.concat([scaled_df,y], axis=1)\n",
    "final_df.head()\n",
    "final_df.iloc[:,:-1]\n",
    "#plot parallel coordinates\n",
    "from pandas.plotting import parallel_coordinates\n",
    "pc = parallel_coordinates(final_df.iloc[:,:-1], pd.DataFrame(final_df.iloc[:,-1]), color=('#FFE888', '#FF9999'))"
   ]
  },
  {
   "cell_type": "code",
   "execution_count": 353,
   "metadata": {},
   "outputs": [
    {
     "data": {
      "text/plain": [
       "pandas.core.frame.DataFrame"
      ]
     },
     "execution_count": 353,
     "metadata": {},
     "output_type": "execute_result"
    }
   ],
   "source": [
    "type(final_df.iloc[:,:-1])"
   ]
  }
 ],
 "metadata": {
  "interpreter": {
   "hash": "9ed507d7e020710233f64687beb3a656580c4b25df288c11f694e28a1e96ceac"
  },
  "kernelspec": {
   "display_name": "Python 3.8.13 ('torch-gpu')",
   "language": "python",
   "name": "python3"
  },
  "language_info": {
   "codemirror_mode": {
    "name": "ipython",
    "version": 3
   },
   "file_extension": ".py",
   "mimetype": "text/x-python",
   "name": "python",
   "nbconvert_exporter": "python",
   "pygments_lexer": "ipython3",
   "version": "3.8.13"
  },
  "orig_nbformat": 4
 },
 "nbformat": 4,
 "nbformat_minor": 2
}
