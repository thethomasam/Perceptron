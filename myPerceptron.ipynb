{
 "cells": [
  {
   "cell_type": "code",
   "execution_count": 7,
   "metadata": {},
   "outputs": [],
   "source": [
    "import pandas as pd\n",
    "import numpy as np\n",
    "from sklearn.model_selection import train_test_split\n",
    "from sklearn.metrics import confusion_matrix\n",
    "import matplotlib.pyplot as plt\n",
    "from sklearn.datasets import load_svmlight_file\n",
    "from sklearn.metrics import accuracy_score\n",
    "import torch \n",
    "from sklearn import metrics\n",
    "\n",
    "\n"
   ]
  },
  {
   "cell_type": "code",
   "execution_count": 8,
   "metadata": {},
   "outputs": [],
   "source": [
    "# read_csv=pd.read_csv('./std.txt',sep=\"\\s+|;|:\",header=None)\n",
    "# read_csv=pd.read_csv(\"./std_data.txt\",sep=\"\\s+|;|:\",header=None)\n",
    "\n",
    "# read_csv.to_csv ('./std_train_dia.csv')\n",
    "X,y=load_svmlight_file(\"./std_data.txt\")\n",
    "# y=y.reshape(y.shape[0],1)\n",
    "X=pd.DataFrame(X.toarray())\n",
    "\n",
    "y=pd.DataFrame(y)\n",
    "\n",
    "\n",
    "\n",
    "\n"
   ]
  },
  {
   "cell_type": "markdown",
   "metadata": {},
   "source": [
    "Test Data \n"
   ]
  },
  {
   "cell_type": "markdown",
   "metadata": {},
   "source": [
    "Split Data\n"
   ]
  },
  {
   "cell_type": "code",
   "execution_count": 9,
   "metadata": {},
   "outputs": [],
   "source": [
    "def  split_data(X,y):\n",
    "    X_train, X_test, y_train, y_test = train_test_split(X, y, test_size=0.33, random_state=42)\n",
    "    return X_train, X_test, y_train, y_test\n",
    "\n",
    "\n",
    "\n",
    "\n",
    "\n"
   ]
  },
  {
   "cell_type": "code",
   "execution_count": 11,
   "metadata": {},
   "outputs": [],
   "source": [
    "class Perceptron :\n",
    "\n",
    "    def __init__(self,X,y,epochs):\n",
    "        self.epochs=epochs\n",
    "        self.weights=np.array(np.random.rand(1,X.shape[1]))\n",
    "       \n",
    "  \n",
    "        self.X=np.array(X)               \n",
    "        self.y=np.array(y)\n",
    "        self.lr=0.04\n",
    "        self.bias=3\n",
    "        self.error=[]\n",
    "\n",
    "       \n",
    "\n",
    "    def activation_fx(self,y):\n",
    "        return np.where(y>0,1,-1)\n",
    "\n",
    "        \n",
    "    def loss_fxn(self,X,weights,y):\n",
    "        signum=y*(np.dot(X,weights.T))\n",
    "        \n",
    "        if signum<=0:\n",
    "            return 1\n",
    "        else:\n",
    "            return 0\n",
    "\n",
    "    def pred_accuracy(self,X, y, weights):\n",
    "        preds = np.matmul(X, weights.T)\n",
    "        preds=np.where(preds>0,1,-1)\n",
    "        \n",
    "       \n",
    "        accuracy = accuracy_score(preds,y)\n",
    "        \n",
    "        return preds, accuracy\n",
    "\n",
    "    \n",
    "    def train(self):\n",
    "        error=[]\n",
    "        for i in range(self.epochs):\n",
    "            sum_of_errors=0\n",
    "            \n",
    "            for i in range(len(self.X)):\n",
    "                sum_of_errors+=self.y[i]*self.X[i]*self.loss_fxn(self.X[i],self.weights,self.y[i])\n",
    "                \n",
    "            self.weights=self.weights+self.lr*(sum_of_errors)\n",
    "            \n",
    "            preds_train, acc_train = self.pred_accuracy(self.X,self.y, self.weights)\n",
    "            self.error.append(acc_train)\n",
    "            \n",
    "            # print(acc_train)\n",
    "                \n",
    "\n",
    "            # for i in range(len(self.X)):\n",
    "            #     # print(np.matmul(self.X[i],self.weights.T))\n",
    "\n",
    "\n",
    "            #     sum_of_errors+=self.y[i]*self.X[i]*self.loss_fxn(self.X[i],self.weights,self.y[i])\n",
    "\n",
    "                \n",
    "            #     print(sum_of_errors)\n",
    "            # self.weights+=self.lr*sum_of_errors\n",
    "            # print(self.weights)\n",
    "           \n",
    "            \n",
    "            \n",
    "    def predict(self,X):\n",
    "        if np.matmul(X,self.weights.T)>0:\n",
    "            return 1\n",
    "        else:\n",
    "            return -1\n",
    "    def get_pred(self,X):\n",
    "        y_pred=np.matmul(X,self.weights.T)\n",
    "        y_pred[y_pred>0]=1\n",
    "        y_pred[y_pred<0]=-1\n",
    "\n",
    "        return y_pred\n",
    "            \n",
    "       \n",
    "\n",
    "       \n",
    "    \n",
    "\n",
    "    def  plot_error(self):\n",
    "      \n",
    "        plt.plot(b.error)\n",
    "        plt.show()\n",
    "        \n",
    "        \n",
    "           \n",
    "                \n",
    "        \n",
    "        \n",
    "\n",
    "            \n",
    "\n"
   ]
  },
  {
   "cell_type": "code",
   "execution_count": 12,
   "metadata": {},
   "outputs": [
    {
     "data": {
      "text/plain": [
       "(254, 8)"
      ]
     },
     "execution_count": 12,
     "metadata": {},
     "output_type": "execute_result"
    }
   ],
   "source": [
    "X_train, X_test, y_train, y_test=split_data(X,y)\n",
    "\n",
    "\n",
    "\n",
    "X_test.shape"
   ]
  },
  {
   "cell_type": "code",
   "execution_count": 13,
   "metadata": {},
   "outputs": [],
   "source": [
    "b=Perceptron(X_train,y_train,30)\n",
    "b.train()\n",
    "\n",
    "\n",
    "\n"
   ]
  },
  {
   "cell_type": "code",
   "execution_count": 14,
   "metadata": {},
   "outputs": [
    {
     "data": {
      "text/plain": [
       "array([[ -0.96952497, -10.54750984,   1.50981798,  -0.22921828,\n",
       "          2.00616283,  -8.057073  ,  -1.3129521 ,  -2.00311718]])"
      ]
     },
     "execution_count": 14,
     "metadata": {},
     "output_type": "execute_result"
    }
   ],
   "source": [
    "b.weights"
   ]
  },
  {
   "cell_type": "code",
   "execution_count": 19,
   "metadata": {},
   "outputs": [
    {
     "data": {
      "text/plain": [
       "<AxesSubplot: >"
      ]
     },
     "execution_count": 19,
     "metadata": {},
     "output_type": "execute_result"
    },
    {
     "data": {
      "image/png": "[encoded data removed]",
      "text/plain": [
       "<Figure size 432x288 with 2 Axes>"
      ]
     },
     "metadata": {
      "needs_background": "light"
     },
     "output_type": "display_data"
    }
   ],
   "source": [
    "import seaborn as sns\n",
    "cf_matrix = confusion_matrix(y_test,b.get_pred(X_test))\n",
    "sns.heatmap(cf_matrix/np.sum(cf_matrix), annot=True, \n",
    "            fmt='.2%', cmap='Blues')\n",
    "            "
   ]
  },
  {
   "cell_type": "code",
   "execution_count": 17,
   "metadata": {},
   "outputs": [
    {
     "data": {
      "image/png": "[encoded data removed]",
      "text/plain": [
       "<Figure size 432x288 with 1 Axes>"
      ]
     },
     "metadata": {
      "needs_background": "light"
     },
     "output_type": "display_data"
    }
   ],
   "source": [
    "b.plot_error()"
   ]
  },
  {
   "cell_type": "code",
   "execution_count": 225,
   "metadata": {},
   "outputs": [
    {
     "data": {
      "text/plain": [
       "array([[  0, 330],\n",
       "       [  0,   0]])"
      ]
     },
     "execution_count": 225,
     "metadata": {},
     "output_type": "execute_result"
    }
   ],
   "source": [
    "confusion_matrix(y,y_test)"
   ]
  }
 ],
 "metadata": {
  "interpreter": {
   "hash": "9ed507d7e020710233f64687beb3a656580c4b25df288c11f694e28a1e96ceac"
  },
  "kernelspec": {
   "display_name": "Python 3.8.13 ('torch-gpu')",
   "language": "python",
   "name": "python3"
  },
  "language_info": {
   "codemirror_mode": {
    "name": "ipython",
    "version": 3
   },
   "file_extension": ".py",
   "mimetype": "text/x-python",
   "name": "python",
   "nbconvert_exporter": "python",
   "pygments_lexer": "ipython3",
   "version": "3.8.13"
  },
  "orig_nbformat": 4
 },
 "nbformat": 4,
 "nbformat_minor": 2
}
