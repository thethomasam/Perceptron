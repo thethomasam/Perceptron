{
 "cells": [
  {
   "cell_type": "code",
   "execution_count": 71,
   "metadata": {},
   "outputs": [],
   "source": [
    "import pandas as pd\n",
    "import numpy as np\n",
    "from sklearn.model_selection import train_test_split\n",
    "from sklearn.metrics import confusion_matrix\n",
    "import matplotlib.pyplot as plt\n",
    "from sklearn.datasets import load_svmlight_file\n",
    "from sklearn.metrics import accuracy_score\n",
    "import torch \n",
    "from sklearn import metrics\n",
    "\n",
    "import seaborn as sns\n",
    "\n",
    "\n"
   ]
  },
  {
   "cell_type": "markdown",
   "metadata": {},
   "source": [
    "Importing Dataset\n"
   ]
  },
  {
   "cell_type": "code",
   "execution_count": 25,
   "metadata": {},
   "outputs": [],
   "source": [
    "\n",
    "X,y=load_svmlight_file(\"./std_data.txt\")\n",
    "X=pd.DataFrame(X.toarray())\n",
    "y=pd.DataFrame(y)\n"
   ]
  },
  {
   "cell_type": "markdown",
   "metadata": {},
   "source": [
    "Split Data to Train and Test set\n",
    "\n"
   ]
  },
  {
   "cell_type": "code",
   "execution_count": 74,
   "metadata": {},
   "outputs": [
    {
     "ename": "NameError",
     "evalue": "name 'x' is not defined",
     "output_type": "error",
     "traceback": [
      "\u001b[0;31m---------------------------------------------------------------------------\u001b[0m",
      "\u001b[0;31mNameError\u001b[0m                                 Traceback (most recent call last)",
      "Cell \u001b[0;32mIn [74], line 5\u001b[0m\n\u001b[1;32m      3\u001b[0m     X_train, X_test, y_train, y_test \u001b[38;5;241m=\u001b[39m train_test_split(X, y, test_size\u001b[38;5;241m=\u001b[39m\u001b[38;5;241m0.33\u001b[39m,stratify\u001b[38;5;241m=\u001b[39my )\n\u001b[1;32m      4\u001b[0m     \u001b[38;5;28;01mreturn\u001b[39;00m X_train, X_test, y_train, y_test\n\u001b[0;32m----> 5\u001b[0m X_train, X_test, y_train, y_test\u001b[38;5;241m=\u001b[39m\u001b[43msplit_data\u001b[49m\u001b[43m(\u001b[49m\u001b[43mX\u001b[49m\u001b[43m,\u001b[49m\u001b[43my\u001b[49m\u001b[43m)\u001b[49m\n\u001b[1;32m      8\u001b[0m X_train\n",
      "Cell \u001b[0;32mIn [74], line 2\u001b[0m, in \u001b[0;36msplit_data\u001b[0;34m(X, y)\u001b[0m\n\u001b[1;32m      1\u001b[0m \u001b[38;5;28;01mdef\u001b[39;00m  \u001b[38;5;21msplit_data\u001b[39m(X,y):\n\u001b[0;32m----> 2\u001b[0m     np\u001b[38;5;241m.\u001b[39mrandom\u001b[38;5;241m.\u001b[39mseed(\u001b[43mx\u001b[49m)\n\u001b[1;32m      3\u001b[0m     X_train, X_test, y_train, y_test \u001b[38;5;241m=\u001b[39m train_test_split(X, y, test_size\u001b[38;5;241m=\u001b[39m\u001b[38;5;241m0.33\u001b[39m,stratify\u001b[38;5;241m=\u001b[39my )\n\u001b[1;32m      4\u001b[0m     \u001b[38;5;28;01mreturn\u001b[39;00m X_train, X_test, y_train, y_test\n",
      "\u001b[0;31mNameError\u001b[0m: name 'x' is not defined"
     ]
    }
   ],
   "source": [
    "def  split_data(X,y):\n",
    "    np.random.seed(x)\n",
    "    X_train, X_test, y_train, y_test = train_test_split(X, y, test_size=0.33,stratify=y )\n",
    "    return X_train, X_test, y_train, y_test\n",
    "X_train, X_test, y_train, y_test=split_data(X,y)\n",
    "\n",
    "\n",
    "X_train\n"
   ]
  },
  {
   "cell_type": "code",
   "execution_count": 144,
   "metadata": {},
   "outputs": [],
   "source": [
    "class MyPerceptron :\n",
    "\n",
    "    def __init__(self,X,y,epochs):\n",
    "        self.epochs=epochs   # number of epochs\n",
    "\n",
    "        self.weights=np.array(np.random.rand(1,X.shape[1]))  # initialising the weights\n",
    "          # initialising the label with inputs\n",
    "        self.lr=0.04 # initialising learning Rate\n",
    "        self.bias=3  # initialising the bias \n",
    "        self.error=[]  # initialising empty array to store loss \n",
    "        self.train_acc=[]\n",
    "        self.test_acc=[]\n",
    "        self.best_weight=0\n",
    "        self.accuracy_table=[]\n",
    "        # self.X_train=np.array(X)\n",
    "        # self.y_train=np.array(y)\n",
    "        self.X_train,self.X_test,self.y_train,self.y_test = self.split_data(X,y)# initalisig the features with input           \n",
    "        self.X_train=np.array(self.X_train)\n",
    "        self.X_test=np.array(self.X_test)\n",
    "        self.y_train=np.array(y_train)\n",
    "        self.y_test=np.array(y_test)\n",
    "\n",
    "\n",
    "    \n",
    "    def  split_data(self,X,y):\n",
    "        np.random.seed(123)\n",
    "        X_train, X_test, y_train, y_test = train_test_split(X, y, test_size=0.33, random_state=42,stratify=y )\n",
    "        return X_train, X_test, y_train, y_test\n",
    "\n",
    "    \n",
    "        \n",
    "    def loss_fxn(self,X,weights,y):\n",
    "        \n",
    "        #step function which adds loss to missclassification \n",
    "        signum=y*(np.matmul(X,weights.T))\n",
    "        if signum<=0:\n",
    "            return 1\n",
    "        else:\n",
    "            return 0\n",
    "\n",
    "    def pred_accuracy(self,X, y):\n",
    "        y_preds = self.predict(X)\n",
    "        accuracy = accuracy_score(y_preds,y)\n",
    "        return accuracy\n",
    "\n",
    "    \n",
    "    def train(self):\n",
    "        # optimizing the weights to find the best descison boundry \n",
    "      \n",
    "        for i in range(self.epochs):\n",
    "            sum_of_errors=0\n",
    "            for i in range(len(self.X_train)):\n",
    "                sum_of_errors+=self.X_train[i]*self.y_train[i]*self.loss_fxn(self.X_train[i],self.weights,self.y_train[i])\n",
    "            self.weights=self.weights+self.lr*(sum_of_errors)\n",
    "            acc_train = self.pred_accuracy(self.X_train,self.y_train)\n",
    "            acc_test=self.pred_accuracy(self.X_test,self.y_test)\n",
    "            self.train_acc.append(acc_train)\n",
    "            self.test_acc.append(acc_test)\n",
    "            self.accuracy_table.append({\"weights\":self.weights,\"train_accuracy\":acc_train,\"test_accuracy\":acc_test})\n",
    "\n",
    "\n",
    "        \n",
    "            \n",
    "            \n",
    "    \n",
    "    def predict(self,X):\n",
    "        #predicts the class based on the input features \n",
    "        y_pred=np.matmul(X,self.weights.T)\n",
    "        y_pred[y_pred>0]=1\n",
    "        y_pred[y_pred<0]=-1\n",
    "        return y_pred\n",
    "            \n",
    "       \n",
    "    def conf_matrix(self,y_test):\n",
    "        cf_matrix = confusion_matrix(y_test,self.predict(X_test))\n",
    "        sns.heatmap(cf_matrix/np.sum(cf_matrix), annot=True, \n",
    "        fmt='.2%', cmap='Blues')\n",
    "                   \n",
    "    \n",
    "\n",
    "    def  plot_error(self):\n",
    "        #plot the error\n",
    "        print(self.error)\n",
    "        plt.plot(self.error)\n",
    "        plt.show()\n",
    "    def  plot_acc(self):\n",
    "        #plot the error\n",
    "        plt.plot(self.train_acc)\n",
    "        plt.plot(self.test_acc)\n",
    "        \n",
    "    def get_conf(self):\n",
    "        cf_matrix = confusion_matrix(self.y_test,b.predict(self.X_test))\n",
    "        sns.heatmap(cf_matrix/np.sum(cf_matrix), annot=True, \n",
    "            fmt='.2%', cmap='Blues')\n",
    "\n",
    "    def  get_best_weights(self):\n",
    "        self.best_weight=sorted(self.accuracy_table,key=lambda k: k['test_accuracy'])[-1]\n",
    "        \n",
    "        \n",
    "\n",
    "\n",
    "           \n",
    "                \n",
    "        \n",
    "        \n",
    "\n",
    "            \n",
    "\n"
   ]
  },
  {
   "cell_type": "code",
   "execution_count": 12,
   "metadata": {},
   "outputs": [
    {
     "data": {
      "text/plain": [
       "(254, 8)"
      ]
     },
     "execution_count": 12,
     "metadata": {},
     "output_type": "execute_result"
    }
   ],
   "source": [
    "\n"
   ]
  },
  {
   "cell_type": "code",
   "execution_count": 148,
   "metadata": {},
   "outputs": [],
   "source": [
    "b=MyPerceptron(X,y,10)\n",
    "b.train()\n",
    "            \n",
    "\n",
    "\n"
   ]
  },
  {
   "cell_type": "code",
   "execution_count": 116,
   "metadata": {},
   "outputs": [
    {
     "data": {
      "image/png": "[encoded data removed]",
      "text/plain": [
       "<Figure size 432x288 with 1 Axes>"
      ]
     },
     "metadata": {
      "needs_background": "light"
     },
     "output_type": "display_data"
    }
   ],
   "source": [
    "\n",
    "b.plot_acc()"
   ]
  },
  {
   "cell_type": "code",
   "execution_count": 149,
   "metadata": {},
   "outputs": [],
   "source": [
    "\n",
    "b.get_best_weights()\n",
    "            "
   ]
  },
  {
   "cell_type": "code",
   "execution_count": 150,
   "metadata": {},
   "outputs": [
    {
     "name": "stdout",
     "output_type": "stream",
     "text": [
      "[]\n"
     ]
    },
    {
     "data": {
      "image/png": "[encoded data removed]",
      "text/plain": [
       "<Figure size 432x288 with 1 Axes>"
      ]
     },
     "metadata": {
      "needs_background": "light"
     },
     "output_type": "display_data"
    }
   ],
   "source": [
    "b.plot_error()"
   ]
  },
  {
   "cell_type": "code",
   "execution_count": 152,
   "metadata": {},
   "outputs": [
    {
     "data": {
      "text/plain": [
       "{'weights': array([[-2.44235507, -9.813558  , -0.37642826, -0.05959777,  1.58017602,\n",
       "         -4.03245283, -0.49513776, -2.09117123]]),\n",
       " 'train_accuracy': 0.7315175097276264,\n",
       " 'test_accuracy': 0.7244094488188977}"
      ]
     },
     "execution_count": 152,
     "metadata": {},
     "output_type": "execute_result"
    }
   ],
   "source": [
    "b.best_weight"
   ]
  }
 ],
 "metadata": {
  "interpreter": {
   "hash": "9ed507d7e020710233f64687beb3a656580c4b25df288c11f694e28a1e96ceac"
  },
  "kernelspec": {
   "display_name": "Python 3.8.13 ('torch-gpu')",
   "language": "python",
   "name": "python3"
  },
  "language_info": {
   "codemirror_mode": {
    "name": "ipython",
    "version": 3
   },
   "file_extension": ".py",
   "mimetype": "text/x-python",
   "name": "python",
   "nbconvert_exporter": "python",
   "pygments_lexer": "ipython3",
   "version": "3.8.13"
  },
  "orig_nbformat": 4
 },
 "nbformat": 4,
 "nbformat_minor": 2
}
